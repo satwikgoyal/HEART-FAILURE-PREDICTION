{
  "nbformat": 4,
  "nbformat_minor": 0,
  "metadata": {
    "colab": {
      "name": "heart_failure_prediction.ipynb",
      "provenance": [],
      "collapsed_sections": [
        "Dq7KJy2tTNXZ",
        "o6EvtIBlTW5z",
        "qBamzlsJg6fc",
        "yQ1SOcWpsrsb",
        "lHDiUUSRVqfQ",
        "wMRv7Io_Vfm6",
        "2DQSojuwV2Yj",
        "zdCL8QF1WYOO"
      ]
    },
    "kernelspec": {
      "name": "python3",
      "display_name": "Python 3"
    },
    "language_info": {
      "name": "python"
    }
  },
  "cells": [
    {
      "cell_type": "markdown",
      "metadata": {
        "id": "Dq7KJy2tTNXZ"
      },
      "source": [
        "# Mounting Google Drive and Uploading the Dataset"
      ]
    },
    {
      "cell_type": "code",
      "metadata": {
        "id": "H7Bdug8SLcIg",
        "colab": {
          "base_uri": "https://localhost:8080/"
        },
        "outputId": "6d94b252-3a6d-4355-bbcf-4added87fca2"
      },
      "source": [
        "import pandas as pd\n",
        "from google.colab import drive\n",
        "drive.mount('/gdrive')\n",
        "\n",
        "FOLDERNAME = \"CS682_Project\"\n",
        "%cd /gdrive/My\\ Drive/$FOLDERNAME"
      ],
      "execution_count": null,
      "outputs": [
        {
          "output_type": "stream",
          "name": "stdout",
          "text": [
            "Mounted at /gdrive\n",
            "/gdrive/My Drive/CS682_Project\n"
          ]
        }
      ]
    },
    {
      "cell_type": "code",
      "metadata": {
        "id": "ZrJ3psa4SHWL"
      },
      "source": [
        "df = pd.read_csv(\"heart.csv\")"
      ],
      "execution_count": null,
      "outputs": []
    },
    {
      "cell_type": "markdown",
      "metadata": {
        "id": "o6EvtIBlTW5z"
      },
      "source": [
        "# Preprocessing the Data"
      ]
    },
    {
      "cell_type": "code",
      "metadata": {
        "colab": {
          "base_uri": "https://localhost:8080/",
          "height": 206
        },
        "id": "X6emfUS2UtwV",
        "outputId": "327eb44f-c352-4eaf-f6f2-23b6ad680edd"
      },
      "source": [
        "df.head()"
      ],
      "execution_count": null,
      "outputs": [
        {
          "output_type": "execute_result",
          "data": {
            "text/html": [
              "<div>\n",
              "<style scoped>\n",
              "    .dataframe tbody tr th:only-of-type {\n",
              "        vertical-align: middle;\n",
              "    }\n",
              "\n",
              "    .dataframe tbody tr th {\n",
              "        vertical-align: top;\n",
              "    }\n",
              "\n",
              "    .dataframe thead th {\n",
              "        text-align: right;\n",
              "    }\n",
              "</style>\n",
              "<table border=\"1\" class=\"dataframe\">\n",
              "  <thead>\n",
              "    <tr style=\"text-align: right;\">\n",
              "      <th></th>\n",
              "      <th>Age</th>\n",
              "      <th>Sex</th>\n",
              "      <th>ChestPainType</th>\n",
              "      <th>RestingBP</th>\n",
              "      <th>Cholesterol</th>\n",
              "      <th>FastingBS</th>\n",
              "      <th>RestingECG</th>\n",
              "      <th>MaxHR</th>\n",
              "      <th>ExerciseAngina</th>\n",
              "      <th>Oldpeak</th>\n",
              "      <th>ST_Slope</th>\n",
              "      <th>HeartDisease</th>\n",
              "    </tr>\n",
              "  </thead>\n",
              "  <tbody>\n",
              "    <tr>\n",
              "      <th>0</th>\n",
              "      <td>40</td>\n",
              "      <td>M</td>\n",
              "      <td>ATA</td>\n",
              "      <td>140</td>\n",
              "      <td>289</td>\n",
              "      <td>0</td>\n",
              "      <td>Normal</td>\n",
              "      <td>172</td>\n",
              "      <td>N</td>\n",
              "      <td>0.0</td>\n",
              "      <td>Up</td>\n",
              "      <td>0</td>\n",
              "    </tr>\n",
              "    <tr>\n",
              "      <th>1</th>\n",
              "      <td>49</td>\n",
              "      <td>F</td>\n",
              "      <td>NAP</td>\n",
              "      <td>160</td>\n",
              "      <td>180</td>\n",
              "      <td>0</td>\n",
              "      <td>Normal</td>\n",
              "      <td>156</td>\n",
              "      <td>N</td>\n",
              "      <td>1.0</td>\n",
              "      <td>Flat</td>\n",
              "      <td>1</td>\n",
              "    </tr>\n",
              "    <tr>\n",
              "      <th>2</th>\n",
              "      <td>37</td>\n",
              "      <td>M</td>\n",
              "      <td>ATA</td>\n",
              "      <td>130</td>\n",
              "      <td>283</td>\n",
              "      <td>0</td>\n",
              "      <td>ST</td>\n",
              "      <td>98</td>\n",
              "      <td>N</td>\n",
              "      <td>0.0</td>\n",
              "      <td>Up</td>\n",
              "      <td>0</td>\n",
              "    </tr>\n",
              "    <tr>\n",
              "      <th>3</th>\n",
              "      <td>48</td>\n",
              "      <td>F</td>\n",
              "      <td>ASY</td>\n",
              "      <td>138</td>\n",
              "      <td>214</td>\n",
              "      <td>0</td>\n",
              "      <td>Normal</td>\n",
              "      <td>108</td>\n",
              "      <td>Y</td>\n",
              "      <td>1.5</td>\n",
              "      <td>Flat</td>\n",
              "      <td>1</td>\n",
              "    </tr>\n",
              "    <tr>\n",
              "      <th>4</th>\n",
              "      <td>54</td>\n",
              "      <td>M</td>\n",
              "      <td>NAP</td>\n",
              "      <td>150</td>\n",
              "      <td>195</td>\n",
              "      <td>0</td>\n",
              "      <td>Normal</td>\n",
              "      <td>122</td>\n",
              "      <td>N</td>\n",
              "      <td>0.0</td>\n",
              "      <td>Up</td>\n",
              "      <td>0</td>\n",
              "    </tr>\n",
              "  </tbody>\n",
              "</table>\n",
              "</div>"
            ],
            "text/plain": [
              "   Age Sex ChestPainType  ...  Oldpeak  ST_Slope  HeartDisease\n",
              "0   40   M           ATA  ...      0.0        Up             0\n",
              "1   49   F           NAP  ...      1.0      Flat             1\n",
              "2   37   M           ATA  ...      0.0        Up             0\n",
              "3   48   F           ASY  ...      1.5      Flat             1\n",
              "4   54   M           NAP  ...      0.0        Up             0\n",
              "\n",
              "[5 rows x 12 columns]"
            ]
          },
          "metadata": {},
          "execution_count": 6
        }
      ]
    },
    {
      "cell_type": "code",
      "metadata": {
        "id": "eN9yCnKHTbx6"
      },
      "source": [
        "from sklearn.preprocessing import OneHotEncoder\n",
        "import numpy as np\n",
        "from sklearn.compose import ColumnTransformer\n",
        "\n",
        "# print(set(df['Sex']))\n",
        "# print(set(df['ChestPainType']))\n",
        "# print(set(df['RestingECG']))\n",
        "# print(set(df['ExerciseAngina']))\n",
        "# print(set(df['ST_Slope']))\n",
        "X = ColumnTransformer([('one_hot_encoder', OneHotEncoder(categories='auto', drop='first'), [1, 2, 6, 8, 10])], remainder='passthrough', n_jobs=-1).fit_transform(np.array(df)[:, :-1])\n",
        "y = np.array(df['HeartDisease'])"
      ],
      "execution_count": null,
      "outputs": []
    },
    {
      "cell_type": "code",
      "metadata": {
        "colab": {
          "base_uri": "https://localhost:8080/"
        },
        "id": "7KmjmwvCdBiY",
        "outputId": "eb78c373-e1d6-4e61-c0c9-3acd0bb48ac7"
      },
      "source": [
        "len(np.where(np.array(df['HeartDisease']) == 1)[0])"
      ],
      "execution_count": null,
      "outputs": [
        {
          "output_type": "execute_result",
          "data": {
            "text/plain": [
              "508"
            ]
          },
          "metadata": {},
          "execution_count": 8
        }
      ]
    },
    {
      "cell_type": "code",
      "metadata": {
        "colab": {
          "base_uri": "https://localhost:8080/",
          "height": 206
        },
        "id": "S2OKNSDOmU0F",
        "outputId": "6af559d9-95f8-4332-b061-0a95766ef94e"
      },
      "source": [
        "pd.DataFrame(X).head()"
      ],
      "execution_count": null,
      "outputs": [
        {
          "output_type": "execute_result",
          "data": {
            "text/html": [
              "<div>\n",
              "<style scoped>\n",
              "    .dataframe tbody tr th:only-of-type {\n",
              "        vertical-align: middle;\n",
              "    }\n",
              "\n",
              "    .dataframe tbody tr th {\n",
              "        vertical-align: top;\n",
              "    }\n",
              "\n",
              "    .dataframe thead th {\n",
              "        text-align: right;\n",
              "    }\n",
              "</style>\n",
              "<table border=\"1\" class=\"dataframe\">\n",
              "  <thead>\n",
              "    <tr style=\"text-align: right;\">\n",
              "      <th></th>\n",
              "      <th>0</th>\n",
              "      <th>1</th>\n",
              "      <th>2</th>\n",
              "      <th>3</th>\n",
              "      <th>4</th>\n",
              "      <th>5</th>\n",
              "      <th>6</th>\n",
              "      <th>7</th>\n",
              "      <th>8</th>\n",
              "      <th>9</th>\n",
              "      <th>10</th>\n",
              "      <th>11</th>\n",
              "      <th>12</th>\n",
              "      <th>13</th>\n",
              "      <th>14</th>\n",
              "    </tr>\n",
              "  </thead>\n",
              "  <tbody>\n",
              "    <tr>\n",
              "      <th>0</th>\n",
              "      <td>1</td>\n",
              "      <td>1</td>\n",
              "      <td>0</td>\n",
              "      <td>0</td>\n",
              "      <td>1</td>\n",
              "      <td>0</td>\n",
              "      <td>0</td>\n",
              "      <td>0</td>\n",
              "      <td>1</td>\n",
              "      <td>40</td>\n",
              "      <td>140</td>\n",
              "      <td>289</td>\n",
              "      <td>0</td>\n",
              "      <td>172</td>\n",
              "      <td>0</td>\n",
              "    </tr>\n",
              "    <tr>\n",
              "      <th>1</th>\n",
              "      <td>0</td>\n",
              "      <td>0</td>\n",
              "      <td>1</td>\n",
              "      <td>0</td>\n",
              "      <td>1</td>\n",
              "      <td>0</td>\n",
              "      <td>0</td>\n",
              "      <td>1</td>\n",
              "      <td>0</td>\n",
              "      <td>49</td>\n",
              "      <td>160</td>\n",
              "      <td>180</td>\n",
              "      <td>0</td>\n",
              "      <td>156</td>\n",
              "      <td>1</td>\n",
              "    </tr>\n",
              "    <tr>\n",
              "      <th>2</th>\n",
              "      <td>1</td>\n",
              "      <td>1</td>\n",
              "      <td>0</td>\n",
              "      <td>0</td>\n",
              "      <td>0</td>\n",
              "      <td>1</td>\n",
              "      <td>0</td>\n",
              "      <td>0</td>\n",
              "      <td>1</td>\n",
              "      <td>37</td>\n",
              "      <td>130</td>\n",
              "      <td>283</td>\n",
              "      <td>0</td>\n",
              "      <td>98</td>\n",
              "      <td>0</td>\n",
              "    </tr>\n",
              "    <tr>\n",
              "      <th>3</th>\n",
              "      <td>0</td>\n",
              "      <td>0</td>\n",
              "      <td>0</td>\n",
              "      <td>0</td>\n",
              "      <td>1</td>\n",
              "      <td>0</td>\n",
              "      <td>1</td>\n",
              "      <td>1</td>\n",
              "      <td>0</td>\n",
              "      <td>48</td>\n",
              "      <td>138</td>\n",
              "      <td>214</td>\n",
              "      <td>0</td>\n",
              "      <td>108</td>\n",
              "      <td>1.5</td>\n",
              "    </tr>\n",
              "    <tr>\n",
              "      <th>4</th>\n",
              "      <td>1</td>\n",
              "      <td>0</td>\n",
              "      <td>1</td>\n",
              "      <td>0</td>\n",
              "      <td>1</td>\n",
              "      <td>0</td>\n",
              "      <td>0</td>\n",
              "      <td>0</td>\n",
              "      <td>1</td>\n",
              "      <td>54</td>\n",
              "      <td>150</td>\n",
              "      <td>195</td>\n",
              "      <td>0</td>\n",
              "      <td>122</td>\n",
              "      <td>0</td>\n",
              "    </tr>\n",
              "  </tbody>\n",
              "</table>\n",
              "</div>"
            ],
            "text/plain": [
              "  0  1  2  3  4  5  6  7  8   9    10   11 12   13   14\n",
              "0  1  1  0  0  1  0  0  0  1  40  140  289  0  172    0\n",
              "1  0  0  1  0  1  0  0  1  0  49  160  180  0  156    1\n",
              "2  1  1  0  0  0  1  0  0  1  37  130  283  0   98    0\n",
              "3  0  0  0  0  1  0  1  1  0  48  138  214  0  108  1.5\n",
              "4  1  0  1  0  1  0  0  0  1  54  150  195  0  122    0"
            ]
          },
          "metadata": {},
          "execution_count": 9
        }
      ]
    },
    {
      "cell_type": "code",
      "metadata": {
        "id": "XsvBV_Rmpvpv"
      },
      "source": [
        "from sklearn.model_selection import train_test_split\n",
        "\n",
        "X_trn, X_tst, y_trn, y_tst = train_test_split(X, y, test_size=0.3, random_state=0)"
      ],
      "execution_count": null,
      "outputs": []
    },
    {
      "cell_type": "code",
      "metadata": {
        "colab": {
          "base_uri": "https://localhost:8080/"
        },
        "id": "Ktqlfx49qDrP",
        "outputId": "1f8b2c04-dde0-4f0f-c5e9-e79c183742fd"
      },
      "source": [
        "len(X_trn), len(X_tst), len(y_trn), len(y_tst)"
      ],
      "execution_count": null,
      "outputs": [
        {
          "output_type": "execute_result",
          "data": {
            "text/plain": [
              "(642, 276, 642, 276)"
            ]
          },
          "metadata": {},
          "execution_count": 11
        }
      ]
    },
    {
      "cell_type": "markdown",
      "metadata": {
        "id": "qBamzlsJg6fc"
      },
      "source": [
        "#Recall"
      ]
    },
    {
      "cell_type": "code",
      "metadata": {
        "id": "4AMeE6Flg5eT"
      },
      "source": [
        "def recall_precision(test_data, pred):\n",
        "  tp = 0 #true positive\n",
        "  fn = 0 #false negative\n",
        "  fp = 0 #false positives\n",
        "\n",
        "  for i in range(len(test_data)):\n",
        "    if test_data[i] == 1:\n",
        "      if pred[i] == 1:\n",
        "        tp += 1\n",
        "      else:\n",
        "        fp += 1\n",
        "    else: #test_data[i]==0\n",
        "      if pred[i] == 1:\n",
        "        fn += 1\n",
        "  \n",
        "  precision = tp/(tp+fp)\n",
        "  recall = tp/(tp+fn)\n",
        "\n",
        "  return (recall, precision)"
      ],
      "execution_count": null,
      "outputs": []
    },
    {
      "cell_type": "markdown",
      "metadata": {
        "id": "yQ1SOcWpsrsb"
      },
      "source": [
        "# K-Fold Cross Validation"
      ]
    },
    {
      "cell_type": "code",
      "metadata": {
        "id": "pPANf3jKTqIp"
      },
      "source": [
        "from sklearn.model_selection import KFold\n",
        "\n",
        "def Kfold_cv_accuracy(X_train, Y_train, model):\n",
        "    kf = KFold(n_splits=5, shuffle=True, random_state=0)\n",
        "    accurates = list()\n",
        "    for train, validate in kf.split(X_train):\n",
        "        model.fit(X_train[train], Y_train[train])\n",
        "        predicted = model.predict(X_train[validate])\n",
        "        Y_validate = Y_train[validate]\n",
        "        accurates.append(np.mean([1 if predicted[y] == Y_validate[y] else 0 for y in range(len(predicted))])) \n",
        "    return np.mean(accurates)"
      ],
      "execution_count": null,
      "outputs": []
    },
    {
      "cell_type": "markdown",
      "metadata": {
        "id": "lHDiUUSRVqfQ"
      },
      "source": [
        "# Performing K-Nearest Neighbours (KNN)"
      ]
    },
    {
      "cell_type": "code",
      "metadata": {
        "id": "l3DDrLsEq275"
      },
      "source": [
        "from sklearn.neighbors import KNeighborsClassifier\n",
        "\n",
        "def best_trained_KNN(X_train, Y_train):\n",
        "    accuracy = dict()\n",
        "    for K in [4, 8, 12, 16, 20, 24]:\n",
        "        accuracy[K] = Kfold_cv_accuracy(X_train, Y_train, KNeighborsClassifier(n_neighbors=K, n_jobs=-1))\n",
        "    return KNeighborsClassifier(n_neighbors=max(accuracy, key=accuracy.get), n_jobs=-1).fit(X_train, Y_train)"
      ],
      "execution_count": null,
      "outputs": []
    },
    {
      "cell_type": "code",
      "metadata": {
        "colab": {
          "base_uri": "https://localhost:8080/"
        },
        "id": "RGA2QerCrKOC",
        "outputId": "1bd275c4-2804-4123-8840-002d51e8e308"
      },
      "source": [
        "KNN_model = best_trained_KNN(X_trn, y_trn)\n",
        "print(KNN_model.score(X_trn, y_trn), KNN_model.score(X_tst, y_tst))\n",
        "print(recall_precision(y_trn, KNN_model.predict(X_trn)), recall_precision(y_tst, KNN_model.predict(X_tst)))"
      ],
      "execution_count": null,
      "outputs": [
        {
          "output_type": "stream",
          "name": "stdout",
          "text": [
            "0.7367601246105919 0.7065217391304348\n",
            "(0.7603550295857988, 0.744927536231884) (0.7808219178082192, 0.6993865030674846)\n"
          ]
        }
      ]
    },
    {
      "cell_type": "markdown",
      "metadata": {
        "id": "wMRv7Io_Vfm6"
      },
      "source": [
        "# Performing Support Vector Machine (SVM)"
      ]
    },
    {
      "cell_type": "code",
      "metadata": {
        "id": "nRSuqGJtV1pj"
      },
      "source": [
        "from sklearn.svm import LinearSVC\n",
        "\n",
        "def best_trained_SVM(X_train, Y_train):\n",
        "    accuracy = dict()\n",
        "    for λ in [0.0001, 0.01, 0.1, 1, 10, 100]:\n",
        "        accuracy[λ] = Kfold_cv_accuracy(X_train, Y_train, SVC(C=λ, kernel='rbf', random_state=0))\n",
        "    return LinearSVC(C=max(accuracy, key=accuracy.get), random_state=0).fit(X_train, Y_train)"
      ],
      "execution_count": null,
      "outputs": []
    },
    {
      "cell_type": "code",
      "metadata": {
        "colab": {
          "base_uri": "https://localhost:8080/"
        },
        "id": "Kgeb0osRtAMG",
        "outputId": "b0536ad2-29e6-4974-be77-309683b76e9a"
      },
      "source": [
        "SVM_model = best_trained_SVM(X_trn, y_trn)\n",
        "print(SVM_model.score(X_trn, y_trn), SVM_model.score(X_tst, y_tst))\n",
        "print(recall_precision(y_trn, SVM_model.predict(X_trn)), recall_precision(y_tst, SVM_model.predict(X_tst)))"
      ],
      "execution_count": null,
      "outputs": [
        {
          "output_type": "stream",
          "name": "stdout",
          "text": [
            "0.8613707165109035 0.8297101449275363\n",
            "(0.826530612244898, 0.9391304347826087) (0.8118279569892473, 0.9263803680981595)\n"
          ]
        },
        {
          "output_type": "stream",
          "name": "stderr",
          "text": [
            "/usr/local/lib/python3.7/dist-packages/sklearn/svm/_base.py:947: ConvergenceWarning: Liblinear failed to converge, increase the number of iterations.\n",
            "  \"the number of iterations.\", ConvergenceWarning)\n"
          ]
        }
      ]
    },
    {
      "cell_type": "markdown",
      "metadata": {
        "id": "2DQSojuwV2Yj"
      },
      "source": [
        "# Performing Logistic Regression"
      ]
    },
    {
      "cell_type": "code",
      "metadata": {
        "id": "V44qhapRWWBv"
      },
      "source": [
        "from sklearn.linear_model import LogisticRegression\n",
        "\n",
        "def best_trained_LR(X_train, Y_train):\n",
        "    accuracy = dict()\n",
        "    for λ in [0.0001, 0.01, 0.1, 1, 10, 100]:\n",
        "        accuracy[λ] = Kfold_cv_accuracy(X_train, Y_train, LogisticRegression(C=λ, random_state=0, max_iter=1000, multi_class='ovr', n_jobs=-1))\n",
        "    return LogisticRegression(C=max(accuracy, key=accuracy.get), random_state=0, max_iter=1000, multi_class='ovr', n_jobs=-1).fit(X_train, Y_train)"
      ],
      "execution_count": null,
      "outputs": []
    },
    {
      "cell_type": "code",
      "metadata": {
        "colab": {
          "base_uri": "https://localhost:8080/"
        },
        "id": "ke2U3L48ueHn",
        "outputId": "cb5d9d77-e4c7-4da0-f24d-557a5c08cd32"
      },
      "source": [
        "LR_model = best_trained_LR(X_trn, y_trn)\n",
        "print(LR_model.score(X_trn, y_trn), LR_model.score(X_tst, y_tst))\n",
        "print(recall_precision(y_trn, LR_model.predict(X_trn)), recall_precision(y_tst, LR_model.predict(X_tst)))"
      ],
      "execution_count": null,
      "outputs": [
        {
          "output_type": "stream",
          "name": "stdout",
          "text": [
            "0.8800623052959502 0.8333333333333334\n",
            "(0.8828571428571429, 0.8956521739130435) (0.8461538461538461, 0.8773006134969326)\n"
          ]
        }
      ]
    },
    {
      "cell_type": "markdown",
      "metadata": {
        "id": "zdCL8QF1WYOO"
      },
      "source": [
        "# Performing Naive Bayes"
      ]
    },
    {
      "cell_type": "code",
      "metadata": {
        "colab": {
          "base_uri": "https://localhost:8080/"
        },
        "id": "mQ6xDueGWoTj",
        "outputId": "47c7d25a-cb07-47a5-f273-f66bddad564d"
      },
      "source": [
        "from sklearn.naive_bayes import GaussianNB\n",
        "\n",
        "NB_model = GaussianNB().fit(X_trn, y_trn)\n",
        "print(NB_model.score(X_trn, y_trn), NB_model.score(X_tst, y_tst))\n",
        "print(recall_precision(y_trn, NB_model.predict(X_trn)), recall_precision(y_tst, NB_model.predict(X_tst)))"
      ],
      "execution_count": null,
      "outputs": [
        {
          "output_type": "stream",
          "name": "stdout",
          "text": [
            "0.8753894080996885 0.8514492753623188\n",
            "(0.8774928774928775, 0.8927536231884058) (0.8630952380952381, 0.8895705521472392)\n"
          ]
        }
      ]
    },
    {
      "cell_type": "markdown",
      "metadata": {
        "id": "mqSEt38uWpLw"
      },
      "source": [
        "# Performing Neural Networks: Multi-layer Perceptron"
      ]
    },
    {
      "cell_type": "code",
      "metadata": {
        "id": "EptzzOnVW0Va",
        "colab": {
          "base_uri": "https://localhost:8080/"
        },
        "outputId": "290c9a72-ec93-4ba9-d034-aa4c2e581171"
      },
      "source": [
        "from sklearn.neural_network import MLPClassifier\n",
        "MLP_model = MLPClassifier(hidden_layer_sizes =  (10, 10) , activation= \"relu\" ,random_state=0, max_iter=500).fit(X_trn, y_trn)\n",
        "print(MLP_model.score(X_trn, y_trn), MLP_model.score(X_tst, y_tst))\n",
        "print(recall_precision(y_trn, MLP_model.predict(X_trn)), recall_precision(y_tst, MLP_model.predict(X_tst)))"
      ],
      "execution_count": null,
      "outputs": [
        {
          "output_type": "stream",
          "name": "stdout",
          "text": [
            "0.8753894080996885 0.855072463768116\n",
            "(0.8552278820375335, 0.9246376811594202) (0.8514285714285714, 0.9141104294478528)\n"
          ]
        }
      ]
    },
    {
      "cell_type": "markdown",
      "metadata": {
        "id": "kWawUIqfm5ky"
      },
      "source": [
        "# Performing 1-Dimensional Covolutional Neural Network"
      ]
    },
    {
      "cell_type": "code",
      "metadata": {
        "id": "lqa2lb_keNs1"
      },
      "source": [
        "import torch\n",
        "import torch.nn as nn\n",
        "import torch.optim as optim\n",
        "\n",
        "net = nn.Conv1d(in_channels=1, out_channels=1, kernel_size=5, bias=False)\n",
        "optimizer=optim.Adam(net.parameters(), lr=0.01)\n",
        "\n",
        "x = torch.tensor(list(X_trn), dtype = torch.float)\n",
        "y = torch.tensor(list(y_trn), dtype = torch.float)"
      ],
      "execution_count": null,
      "outputs": []
    },
    {
      "cell_type": "code",
      "metadata": {
        "id": "5PoBKDBOkWZm"
      },
      "source": [
        "def best_trained_DT(X_trn, Y_trn):\n",
        "    accuracy = dict()\n",
        "    for depth in [1, 3, 6, 9, 12, 15, 18, 21]:\n",
        "        accuracy[depth] = Kfold_cv_accuracy(X_trn, Y_trn, DecisionTreeClassifier(max_depth=depth))\n",
        "    return DecisionTreeClassifier(max_depth = max(accuracy, key=accuracy.get)).fit(X_trn, Y_trn)\n"
      ],
      "execution_count": null,
      "outputs": []
    }
  ]
}